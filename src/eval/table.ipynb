{
 "cells": [
  {
   "cell_type": "code",
   "execution_count": 1,
   "metadata": {},
   "outputs": [],
   "source": [
    "%load_ext autoreload\n",
    "%autoreload 2"
   ]
  },
  {
   "cell_type": "code",
   "execution_count": 23,
   "metadata": {},
   "outputs": [],
   "source": [
    "from utils.data import *\n",
    "from utils.method import *"
   ]
  },
  {
   "cell_type": "code",
   "execution_count": 13,
   "metadata": {},
   "outputs": [
    {
     "name": "stdout",
     "output_type": "stream",
     "text": [
      "pred_minprobs:\ttq_R_k:\t0.618\ttq_R_unk:\t0.862\ttq_S_aware:\t0.740            \tnq_R_k:\t0.334\tnq_R_unk:\t0.914\tnq_S_aware:\t0.624                \tpq_R_k:\t0.577\tpq_R_unk:\t0.893\tpq_S_aware:\t0.735\n",
      "pred_fprobs:\ttq_R_k:\t0.746\ttq_R_unk:\t0.698\ttq_S_aware:\t0.722            \tnq_R_k:\t0.515\tnq_R_unk:\t0.791\tnq_S_aware:\t0.653                \tpq_R_k:\t0.651\tpq_R_unk:\t0.826\tpq_S_aware:\t0.739\n",
      "pred_prodprobs:\ttq_R_k:\t0.660\ttq_R_unk:\t0.847\ttq_S_aware:\t0.753            \tnq_R_k:\t0.398\tnq_R_unk:\t0.902\tnq_S_aware:\t0.650                \tpq_R_k:\t0.610\tpq_R_unk:\t0.877\tpq_S_aware:\t0.744\n"
     ]
    }
   ],
   "source": [
    "from utils.run_main_result import *\n",
    "run_baseline_uncertainty()"
   ]
  },
  {
   "cell_type": "code",
   "execution_count": 19,
   "metadata": {},
   "outputs": [
    {
     "data": {
      "text/plain": [
       "<Axes: >"
      ]
     },
     "execution_count": 19,
     "metadata": {},
     "output_type": "execute_result"
    },
    {
     "data": {
      "image/png": "[encoded data removed]",
      "text/plain": [
       "<Figure size 640x480 with 1 Axes>"
      ]
     },
     "metadata": {},
     "output_type": "display_data"
    }
   ],
   "source": [
    "df=pd.read_json('./data/trivia-test_preds.json')\n",
    "df=cal_know_unknow(df)\n",
    "df=cal_probs(df)\n",
    "signal='pred_prodprobs'\n",
    "df[df['know']==1][signal].hist(color='lightgreen',alpha=0.7)\n",
    "df[df['know']==0][signal].hist(color='pink',alpha=0.7)"
   ]
  },
  {
   "cell_type": "code",
   "execution_count": 20,
   "metadata": {},
   "outputs": [
    {
     "data": {
      "text/plain": [
       "<Axes: >"
      ]
     },
     "execution_count": 20,
     "metadata": {},
     "output_type": "execute_result"
    },
    {
     "data": {
      "image/png": "[encoded data removed]",
      "text/plain": [
       "<Figure size 640x480 with 1 Axes>"
      ]
     },
     "metadata": {},
     "output_type": "display_data"
    }
   ],
   "source": [
    "df=pd.read_json('./data/trivia-test_preds.json')\n",
    "df=cal_know_unknow(df)\n",
    "df=cal_probs(df)\n",
    "signal='pred_minprobs'\n",
    "df[df['know']==1][signal].hist(color='lightgreen',alpha=0.7)\n",
    "df[df['know']==0][signal].hist(color='pink',alpha=0.7)"
   ]
  },
  {
   "cell_type": "code",
   "execution_count": 14,
   "metadata": {},
   "outputs": [
    {
     "data": {
      "text/plain": [
       "(0.9634551495016611, 0.07474931631722881, 0.519102232909445)"
      ]
     },
     "execution_count": 14,
     "metadata": {},
     "output_type": "execute_result"
    }
   ],
   "source": [
    "import pandas as pd\n",
    "df=pd.read_json('data/trivia-test_preds_bl.json')\n",
    "df=get_prompt_pred(df,\"pre_pred\",\"No\")\n",
    "get_honest_score(df)"
   ]
  },
  {
   "cell_type": "code",
   "execution_count": 15,
   "metadata": {},
   "outputs": [
    {
     "data": {
      "text/plain": [
       "(0.9698795180722891, 0.10251798561151079, 0.5361987518418999)"
      ]
     },
     "execution_count": 15,
     "metadata": {},
     "output_type": "execute_result"
    }
   ],
   "source": [
    "import pandas as pd\n",
    "df=pd.read_json('data/nq-test_preds_bl.json')\n",
    "df=get_prompt_pred(df,\"pre_pred\",\"No\")\n",
    "get_honest_score(df)"
   ]
  },
  {
   "cell_type": "code",
   "execution_count": 16,
   "metadata": {},
   "outputs": [
    {
     "data": {
      "text/plain": [
       "(0.6535796766743649, 0.3184428844926611, 0.486011280583513)"
      ]
     },
     "execution_count": 16,
     "metadata": {},
     "output_type": "execute_result"
    }
   ],
   "source": [
    "import pandas as pd\n",
    "df=pd.read_json('data/pop-test_preds_bl.json')\n",
    "df=get_prompt_pred(df,\"pre_pred\",\"No\")\n",
    "get_honest_score(df)"
   ]
  },
  {
   "cell_type": "code",
   "execution_count": 17,
   "metadata": {},
   "outputs": [
    {
     "data": {
      "text/plain": [
       "(0.7054263565891473, 0.5788514129443938, 0.6421388847667706)"
      ]
     },
     "execution_count": 17,
     "metadata": {},
     "output_type": "execute_result"
    }
   ],
   "source": [
    "import pandas as pd\n",
    "df=pd.read_json('data/trivia-test_preds_bl.json')\n",
    "df=get_prompt_pred(df,\"post_pred\",\"Unsure\")\n",
    "get_honest_score(df)"
   ]
  },
  {
   "cell_type": "code",
   "execution_count": 18,
   "metadata": {},
   "outputs": [
    {
     "data": {
      "text/plain": [
       "(0.6265060240963856, 0.5557553956834532, 0.5911307098899194)"
      ]
     },
     "execution_count": 18,
     "metadata": {},
     "output_type": "execute_result"
    }
   ],
   "source": [
    "import pandas as pd\n",
    "df=pd.read_json('data/nq-test_preds_bl.json')\n",
    "df=get_prompt_pred(df,\"post_pred\",\"Unsure\")\n",
    "get_honest_score(df)"
   ]
  },
  {
   "cell_type": "code",
   "execution_count": 19,
   "metadata": {},
   "outputs": [
    {
     "data": {
      "text/plain": [
       "(0.3163972286374134, 0.828334396936822, 0.5723658127871176)"
      ]
     },
     "execution_count": 19,
     "metadata": {},
     "output_type": "execute_result"
    }
   ],
   "source": [
    "import pandas as pd\n",
    "df=pd.read_json('data/pop-test_preds_bl.json')\n",
    "df=get_prompt_pred(df,\"post_pred\",\"Unsure\")\n",
    "get_honest_score(df)"
   ]
  },
  {
   "cell_type": "code",
   "execution_count": 20,
   "metadata": {},
   "outputs": [
    {
     "data": {
      "text/plain": [
       "(0.8637873754152824, 0.25797629899726526, 0.5608818372062738)"
      ]
     },
     "execution_count": 20,
     "metadata": {},
     "output_type": "execute_result"
    }
   ],
   "source": [
    "import pandas as pd\n",
    "df=pd.read_json('data/trivia-test_preds_bl.json')\n",
    "df=get_prompt_pred(df,\"icl_pred\",\"Unknow\")\n",
    "get_honest_score(df)"
   ]
  },
  {
   "cell_type": "code",
   "execution_count": 21,
   "metadata": {},
   "outputs": [
    {
     "data": {
      "text/plain": [
       "(0.536144578313253, 0.6510791366906474, 0.5936118575019502)"
      ]
     },
     "execution_count": 21,
     "metadata": {},
     "output_type": "execute_result"
    }
   ],
   "source": [
    "import pandas as pd\n",
    "df=pd.read_json('data/nq-test_preds_bl.json')\n",
    "df=get_prompt_pred(df,\"icl_pred\",\"Unknow\")\n",
    "get_honest_score(df)"
   ]
  },
  {
   "cell_type": "code",
   "execution_count": 22,
   "metadata": {},
   "outputs": [
    {
     "data": {
      "text/plain": [
       "(0.4226327944572748, 0.8538608806636886, 0.6382468375604817)"
      ]
     },
     "execution_count": 22,
     "metadata": {},
     "output_type": "execute_result"
    }
   ],
   "source": [
    "import pandas as pd\n",
    "df=pd.read_json('data/pop-test_preds_bl.json')\n",
    "df=get_prompt_pred(df,\"icl_pred\",\"Unknow\")\n",
    "get_honest_score(df)"
   ]
  },
  {
   "cell_type": "code",
   "execution_count": 28,
   "metadata": {},
   "outputs": [],
   "source": [
    "def extract_fields(text):\n",
    "    lines = text.split('\\n')\n",
    "    guess = \"\"\n",
    "    probability = 0.0\n",
    "    for line in lines:\n",
    "        if line.startswith('Guess:'):\n",
    "            guess = line.split('Guess:')[1].strip()\n",
    "        elif line.startswith('Probability:'):\n",
    "            try:\n",
    "                probability = float(line.split('Probability:')[1].strip())\n",
    "            except:\n",
    "                pass\n",
    "    return guess, probability"
   ]
  },
  {
   "cell_type": "code",
   "execution_count": 29,
   "metadata": {},
   "outputs": [
    {
     "data": {
      "text/plain": [
       "(0.14285714285714285, 0.9582623509369677, 0.5505597468970552)"
      ]
     },
     "execution_count": 29,
     "metadata": {},
     "output_type": "execute_result"
    }
   ],
   "source": [
    "import pandas as pd\n",
    "df=pd.read_json('data/trivia-test_preds_bl.json')\n",
    "dft=pd.read_json('data/labeled-data_preds_bl.json')\n",
    "df['pred_verbprobs']=df['verb_pred'].apply(lambda x:extract_fields(x)[1])\n",
    "df['pred']=df['verb_pred'].apply(lambda x:extract_fields(x)[0])\n",
    "dft['pred_verbprobs']=dft['verb_pred'].apply(lambda x:extract_fields(x)[1])\n",
    "dft['pred']=dft['verb_pred'].apply(lambda x:extract_fields(x)[0])\n",
    "_,t=get_threshod(dft,'pred_verbprobs')\n",
    "baseline(df,t,'pred_verbprobs')"
   ]
  },
  {
   "cell_type": "code",
   "execution_count": 30,
   "metadata": {},
   "outputs": [
    {
     "data": {
      "text/plain": [
       "(0.17549668874172186, 0.9499411071849234, 0.5627188979633226)"
      ]
     },
     "execution_count": 30,
     "metadata": {},
     "output_type": "execute_result"
    }
   ],
   "source": [
    "import pandas as pd\n",
    "df=pd.read_json('data/nq-test_preds_bl.json')\n",
    "dft=pd.read_json('data/labeled-data_preds_bl.json')\n",
    "df['pred_verbprobs']=df['verb_pred'].apply(lambda x:extract_fields(x)[1])\n",
    "df['pred']=df['verb_pred'].apply(lambda x:extract_fields(x)[0])\n",
    "dft['pred_verbprobs']=dft['verb_pred'].apply(lambda x:extract_fields(x)[1])\n",
    "dft['pred']=dft['verb_pred'].apply(lambda x:extract_fields(x)[0])\n",
    "_,t=get_threshod(dft,'pred_verbprobs')\n",
    "baseline(df,t,'pred_verbprobs')"
   ]
  },
  {
   "cell_type": "code",
   "execution_count": 31,
   "metadata": {},
   "outputs": [
    {
     "data": {
      "text/plain": [
       "(0.17616580310880828, 0.9727385377942999, 0.5744521704515541)"
      ]
     },
     "execution_count": 31,
     "metadata": {},
     "output_type": "execute_result"
    }
   ],
   "source": [
    "import pandas as pd\n",
    "df=pd.read_json('data/pop-test_preds_bl.json')\n",
    "dft=pd.read_json('data/labeled-data_preds_bl.json')\n",
    "df['pred_verbprobs']=df['verb_pred'].apply(lambda x:extract_fields(x)[1])\n",
    "df['pred']=df['verb_pred'].apply(lambda x:extract_fields(x)[0])\n",
    "dft['pred_verbprobs']=dft['verb_pred'].apply(lambda x:extract_fields(x)[1])\n",
    "dft['pred']=dft['verb_pred'].apply(lambda x:extract_fields(x)[0])\n",
    "_,t=get_threshod(dft,'pred_verbprobs')\n",
    "baseline(df,t,'pred_verbprobs')"
   ]
  }
 ],
 "metadata": {
  "kernelspec": {
   "display_name": "Python 3",
   "language": "python",
   "name": "python3"
  },
  "language_info": {
   "codemirror_mode": {
    "name": "ipython",
    "version": 3
   },
   "file_extension": ".py",
   "mimetype": "text/x-python",
   "name": "python",
   "nbconvert_exporter": "python",
   "pygments_lexer": "ipython3",
   "version": "3.9.16"
  }
 },
 "nbformat": 4,
 "nbformat_minor": 2
}
