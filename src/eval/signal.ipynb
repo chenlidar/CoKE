{
 "cells": [
  {
   "cell_type": "code",
   "execution_count": 140,
   "metadata": {},
   "outputs": [],
   "source": [
    "import pandas as pd\n",
    "from utils.data import *\n",
    "from utils.method import *"
   ]
  },
  {
   "cell_type": "code",
   "execution_count": 141,
   "metadata": {},
   "outputs": [],
   "source": [
    "from sklearn.metrics import roc_auc_score,brier_score_loss\n",
    "from utils.cali import ece,smece"
   ]
  },
  {
   "cell_type": "code",
   "execution_count": 142,
   "metadata": {},
   "outputs": [],
   "source": [
    "df=pd.read_json('./data/trivia-test_preds.json')\n",
    "df=cal_know_unknow(df)\n",
    "df=cal_probs(df)"
   ]
  },
  {
   "cell_type": "code",
   "execution_count": 143,
   "metadata": {},
   "outputs": [
    {
     "name": "stdout",
     "output_type": "stream",
     "text": [
      "Brier Score for Fst-Prob: 0.2921\n",
      "Brier Score for Prob-Prob: 0.3805\n",
      "Brier Score for Min-Prob: 0.2421\n"
     ]
    }
   ],
   "source": [
    "brier_min_prob = brier_score_loss(df['know'], df['pred_minprobs'])\n",
    "brier_fst_prob = brier_score_loss(df['know'], df['pred_fprobs'])\n",
    "brier_prod2_prob = brier_score_loss(df['know'], df['pred_nprodprobs'])\n",
    "\n",
    "print(f\"Brier Score for Fst-Prob: {brier_fst_prob:.4f}\")\n",
    "print(f\"Brier Score for Prob-Prob: {brier_prod2_prob:.4f}\")\n",
    "print(f\"Brier Score for Min-Prob: {brier_min_prob:.4f}\")"
   ]
  },
  {
   "cell_type": "code",
   "execution_count": 144,
   "metadata": {},
   "outputs": [
    {
     "name": "stdout",
     "output_type": "stream",
     "text": [
      "ECE for Fst-Prob: 0.3091\n",
      "ECE for Prob-Prob: 0.4240\n",
      "ECE for Min-Prob: 0.2575\n"
     ]
    }
   ],
   "source": [
    "ece_min_prob = ece(df['know'], df['pred_minprobs'])\n",
    "ece_fst_prob = ece(df['know'], df['pred_fprobs'])\n",
    "ece_prod2_prob = ece(df['know'], df['pred_nprodprobs'])\n",
    "\n",
    "print(f\"ECE for Fst-Prob: {ece_fst_prob:.4f}\")\n",
    "print(f\"ECE for Prob-Prob: {ece_prod2_prob:.4f}\")\n",
    "print(f\"ECE for Min-Prob: {ece_min_prob:.4f}\")"
   ]
  },
  {
   "cell_type": "code",
   "execution_count": 145,
   "metadata": {},
   "outputs": [
    {
     "name": "stdout",
     "output_type": "stream",
     "text": [
      "smECE for Fst-Prob: 0.2047\n",
      "smECE for Prob2-Prob: 0.2300\n",
      "smECE for Min-Prob: 0.1909\n"
     ]
    }
   ],
   "source": [
    "sm_ece_min_prob = smece(df['know'], df['pred_minprobs'])\n",
    "sm_ece_fst_prob = smece(df['know'], df['pred_fprobs'])\n",
    "sm_ece_prod2_prob = smece(df['know'], df['pred_nprodprobs'])\n",
    "\n",
    "# 打印结果\n",
    "print(f\"smECE for Fst-Prob: {sm_ece_fst_prob:.4f}\")\n",
    "print(f\"smECE for Prob2-Prob: {sm_ece_prod2_prob:.4f}\")\n",
    "print(f\"smECE for Min-Prob: {sm_ece_min_prob:.4f}\")"
   ]
  },
  {
   "cell_type": "code",
   "execution_count": 146,
   "metadata": {},
   "outputs": [
    {
     "name": "stdout",
     "output_type": "stream",
     "text": [
      "AUROC for Fst-Prob: 0.7944\n",
      "AUROC for Prob-Prob: 0.8290\n",
      "AUROC for Min-Prob: 0.8287\n"
     ]
    }
   ],
   "source": [
    "auroc_min_prob = roc_auc_score(df['know'], df['pred_minprobs'])\n",
    "auroc_fst_prob = roc_auc_score(df['know'], df['pred_fprobs'])\n",
    "auroc_prod2_prob = roc_auc_score(df['know'], df['pred_nprodprobs'])\n",
    "\n",
    "print(f\"AUROC for Fst-Prob: {auroc_fst_prob:.4f}\")\n",
    "print(f\"AUROC for Prob-Prob: {auroc_prod2_prob:.4f}\")\n",
    "print(f\"AUROC for Min-Prob: {auroc_min_prob:.4f}\")"
   ]
  },
  {
   "cell_type": "code",
   "execution_count": 147,
   "metadata": {},
   "outputs": [],
   "source": [
    "df=pd.read_json('./data/nq-test_preds.json')\n",
    "df=cal_know_unknow(df)\n",
    "df=cal_probs(df)"
   ]
  },
  {
   "cell_type": "code",
   "execution_count": 148,
   "metadata": {},
   "outputs": [
    {
     "name": "stdout",
     "output_type": "stream",
     "text": [
      "Brier Score for Fst-Prob: 0.3561\n",
      "Brier Score for Prob-Prob: 0.5548\n",
      "Brier Score for Min-Prob: 0.2884\n"
     ]
    }
   ],
   "source": [
    "brier_min_prob = brier_score_loss(df['know'], df['pred_minprobs'])\n",
    "brier_fst_prob = brier_score_loss(df['know'], df['pred_fprobs'])\n",
    "brier_prod2_prob = brier_score_loss(df['know'], df['pred_nprodprobs'])\n",
    "\n",
    "print(f\"Brier Score for Fst-Prob: {brier_fst_prob:.4f}\")\n",
    "print(f\"Brier Score for Prob-Prob: {brier_prod2_prob:.4f}\")\n",
    "print(f\"Brier Score for Min-Prob: {brier_min_prob:.4f}\")"
   ]
  },
  {
   "cell_type": "code",
   "execution_count": 149,
   "metadata": {},
   "outputs": [
    {
     "name": "stdout",
     "output_type": "stream",
     "text": [
      "ECE for Fst-Prob: 0.4543\n",
      "ECE for Prob-Prob: 0.6519\n",
      "ECE for Min-Prob: 0.3930\n"
     ]
    }
   ],
   "source": [
    "ece_min_prob = ece(df['know'], df['pred_minprobs'])\n",
    "ece_fst_prob = ece(df['know'], df['pred_fprobs'])\n",
    "ece_prod2_prob = ece(df['know'], df['pred_nprodprobs'])\n",
    "\n",
    "print(f\"ECE for Fst-Prob: {ece_fst_prob:.4f}\")\n",
    "print(f\"ECE for Prob-Prob: {ece_prod2_prob:.4f}\")\n",
    "print(f\"ECE for Min-Prob: {ece_min_prob:.4f}\")"
   ]
  },
  {
   "cell_type": "code",
   "execution_count": 150,
   "metadata": {},
   "outputs": [
    {
     "name": "stdout",
     "output_type": "stream",
     "text": [
      "smECE for Fst-Prob: 0.2516\n",
      "smECE for Prob2-Prob: 0.3073\n",
      "smECE for Min-Prob: 0.2308\n"
     ]
    }
   ],
   "source": [
    "sm_ece_min_prob = smece(df['know'], df['pred_minprobs'])\n",
    "sm_ece_fst_prob = smece(df['know'], df['pred_fprobs'])\n",
    "sm_ece_prod2_prob = smece(df['know'], df['pred_nprodprobs'])\n",
    "\n",
    "# 打印结果\n",
    "print(f\"smECE for Fst-Prob: {sm_ece_fst_prob:.4f}\")\n",
    "print(f\"smECE for Prob2-Prob: {sm_ece_prod2_prob:.4f}\")\n",
    "print(f\"smECE for Min-Prob: {sm_ece_min_prob:.4f}\")"
   ]
  },
  {
   "cell_type": "code",
   "execution_count": 151,
   "metadata": {},
   "outputs": [
    {
     "name": "stdout",
     "output_type": "stream",
     "text": [
      "AUROC for Fst-Prob: 0.7250\n",
      "AUROC for Prob-Prob: 0.7345\n",
      "AUROC for Min-Prob: 0.7693\n"
     ]
    }
   ],
   "source": [
    "auroc_min_prob = roc_auc_score(df['know'], df['pred_minprobs'])\n",
    "auroc_fst_prob = roc_auc_score(df['know'], df['pred_fprobs'])\n",
    "auroc_prod2_prob = roc_auc_score(df['know'], df['pred_nprodprobs'])\n",
    "\n",
    "print(f\"AUROC for Fst-Prob: {auroc_fst_prob:.4f}\")\n",
    "print(f\"AUROC for Prob-Prob: {auroc_prod2_prob:.4f}\")\n",
    "print(f\"AUROC for Min-Prob: {auroc_min_prob:.4f}\")"
   ]
  },
  {
   "cell_type": "code",
   "execution_count": 152,
   "metadata": {},
   "outputs": [],
   "source": [
    "df=pd.read_json('./data/pop-test_preds.json')\n",
    "df=cal_know_unknow(df)\n",
    "df=cal_probs(df)"
   ]
  },
  {
   "cell_type": "code",
   "execution_count": 153,
   "metadata": {},
   "outputs": [
    {
     "name": "stdout",
     "output_type": "stream",
     "text": [
      "Brier Score for Fst-Prob: 0.2896\n",
      "Brier Score for Prob-Prob: 0.4648\n",
      "Brier Score for Min-Prob: 0.2467\n"
     ]
    }
   ],
   "source": [
    "brier_min_prob = brier_score_loss(df['know'], df['pred_minprobs'])\n",
    "brier_fst_prob = brier_score_loss(df['know'], df['pred_fprobs'])\n",
    "brier_prod2_prob = brier_score_loss(df['know'], df['pred_nprodprobs'])\n",
    "\n",
    "print(f\"Brier Score for Fst-Prob: {brier_fst_prob:.4f}\")\n",
    "print(f\"Brier Score for Prob-Prob: {brier_prod2_prob:.4f}\")\n",
    "print(f\"Brier Score for Min-Prob: {brier_min_prob:.4f}\")"
   ]
  },
  {
   "cell_type": "code",
   "execution_count": 154,
   "metadata": {},
   "outputs": [
    {
     "name": "stdout",
     "output_type": "stream",
     "text": [
      "ECE for Fst-Prob: 0.3789\n",
      "ECE for Prob-Prob: 0.5732\n",
      "ECE for Min-Prob: 0.3355\n"
     ]
    }
   ],
   "source": [
    "ece_min_prob = ece(df['know'], df['pred_minprobs'])\n",
    "ece_fst_prob = ece(df['know'], df['pred_fprobs'])\n",
    "ece_prod2_prob = ece(df['know'], df['pred_nprodprobs'])\n",
    "\n",
    "print(f\"ECE for Fst-Prob: {ece_fst_prob:.4f}\")\n",
    "print(f\"ECE for Prob-Prob: {ece_prod2_prob:.4f}\")\n",
    "print(f\"ECE for Min-Prob: {ece_min_prob:.4f}\")"
   ]
  },
  {
   "cell_type": "code",
   "execution_count": 155,
   "metadata": {},
   "outputs": [
    {
     "name": "stdout",
     "output_type": "stream",
     "text": [
      "smECE for Fst-Prob: 0.2187\n",
      "smECE for Prob2-Prob: 0.2791\n",
      "smECE for Min-Prob: 0.2016\n"
     ]
    }
   ],
   "source": [
    "sm_ece_min_prob = smece(df['know'], df['pred_minprobs'])\n",
    "sm_ece_fst_prob = smece(df['know'], df['pred_fprobs'])\n",
    "sm_ece_prod2_prob = smece(df['know'], df['pred_nprodprobs'])\n",
    "\n",
    "# 打印结果\n",
    "print(f\"smECE for Fst-Prob: {sm_ece_fst_prob:.4f}\")\n",
    "print(f\"smECE for Prob2-Prob: {sm_ece_prod2_prob:.4f}\")\n",
    "print(f\"smECE for Min-Prob: {sm_ece_min_prob:.4f}\")"
   ]
  },
  {
   "cell_type": "code",
   "execution_count": 156,
   "metadata": {},
   "outputs": [
    {
     "name": "stdout",
     "output_type": "stream",
     "text": [
      "AUROC for Fst-Prob: 0.8287\n",
      "AUROC for Prob-Prob: 0.8484\n",
      "AUROC for Min-Prob: 0.8519\n"
     ]
    }
   ],
   "source": [
    "auroc_min_prob = roc_auc_score(df['know'], df['pred_minprobs'])\n",
    "auroc_fst_prob = roc_auc_score(df['know'], df['pred_fprobs'])\n",
    "auroc_prod2_prob = roc_auc_score(df['know'], df['pred_nprodprobs'])\n",
    "\n",
    "print(f\"AUROC for Fst-Prob: {auroc_fst_prob:.4f}\")\n",
    "print(f\"AUROC for Prob-Prob: {auroc_prod2_prob:.4f}\")\n",
    "print(f\"AUROC for Min-Prob: {auroc_min_prob:.4f}\")"
   ]
  }
 ],
 "metadata": {
  "kernelspec": {
   "display_name": "base",
   "language": "python",
   "name": "python3"
  },
  "language_info": {
   "codemirror_mode": {
    "name": "ipython",
    "version": 3
   },
   "file_extension": ".py",
   "mimetype": "text/x-python",
   "name": "python",
   "nbconvert_exporter": "python",
   "pygments_lexer": "ipython3",
   "version": "3.11.5"
  }
 },
 "nbformat": 4,
 "nbformat_minor": 2
}
